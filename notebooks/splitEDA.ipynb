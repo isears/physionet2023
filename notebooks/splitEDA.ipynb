{
 "cells": [
  {
   "cell_type": "code",
   "execution_count": 11,
   "metadata": {},
   "outputs": [],
   "source": [
    "from sklearn.model_selection import train_test_split\n",
    "from physionet2023.dataProcessing.patientDatasets import MetadataOnlyDataset\n",
    "import pandas as pd\n",
    "import seaborn as sns"
   ]
  },
  {
   "cell_type": "code",
   "execution_count": 12,
   "metadata": {},
   "outputs": [
    {
     "data": {
      "text/plain": [
       "<physionet2023.dataProcessing.patientDatasets.MetadataOnlyDataset at 0x7fc32d5b82e0>"
      ]
     },
     "execution_count": 12,
     "metadata": {},
     "output_type": "execute_result"
    }
   ],
   "source": [
    "ds = MetadataOnlyDataset(root_folder=\"../data\")\n",
    "ds"
   ]
  },
  {
   "cell_type": "code",
   "execution_count": 31,
   "metadata": {},
   "outputs": [],
   "source": [
    "train_pids_s1, valid_pids_s1 = train_test_split(ds.patient_ids, test_size=0.1, random_state=1)\n",
    "train_pids_s42, valid_pids_s42 = train_test_split(ds.patient_ids, test_size=0.1, random_state=42)\n",
    "\n",
    "assert len(train_pids_s1) == len(train_pids_s42)\n",
    "assert len(valid_pids_s1) == len(valid_pids_s42)\n",
    "\n",
    "train_metadata_1 = pd.DataFrame([pm for pid, pm, rm in ds if pid in train_pids_s1])\n",
    "valid_metadata_1 = pd.DataFrame([pm for pid, pm, rm in ds if pid in valid_pids_s1])\n",
    "train_metadata_42 = pd.DataFrame([pm for pid, pm, rm in ds if pid in train_pids_s42])\n",
    "valid_metadata_42 = pd.DataFrame([pm for pid, pm, rm in ds if pid in valid_pids_s42])\n",
    "\n",
    "train_metadata_1['seed'] = 1\n",
    "valid_metadata_1['seed'] = 1\n",
    "\n",
    "train_metadata_42['seed'] = 42\n",
    "valid_metadata_42['seed'] = 42\n",
    "\n",
    "train_dfs = pd.concat([train_metadata_1, train_metadata_42])\n",
    "valid_dfs = pd.concat([valid_metadata_1, valid_metadata_42])\n",
    "\n",
    "train_dfs[['Age', 'CPC', 'ROSC', 'TTM']] = train_dfs[['Age', 'CPC', 'ROSC', 'TTM']].astype('float')\n",
    "train_dfs['OHCA'] = train_dfs['OHCA'].astype('bool')\n",
    "valid_dfs[['Age', 'CPC', 'ROSC', 'TTM']] = valid_dfs[['Age', 'CPC', 'ROSC', 'TTM']].astype('float')\n",
    "valid_dfs['OHCA'] = valid_dfs['OHCA'].astype('bool')\n",
    "\n",
    "train_dfs['split'] = 'train'\n",
    "valid_dfs['split'] = 'valid'\n",
    "\n",
    "all_dfs = pd.concat([train_dfs, valid_dfs])"
   ]
  },
  {
   "cell_type": "code",
   "execution_count": 33,
   "metadata": {},
   "outputs": [
    {
     "data": {
      "text/plain": [
       "<Axes: xlabel='seed,split'>"
      ]
     },
     "execution_count": 33,
     "metadata": {},
     "output_type": "execute_result"
    },
    {
     "data": {
      "image/png": "[encoded data removed]",
      "text/plain": [
       "<Figure size 640x480 with 1 Axes>"
      ]
     },
     "metadata": {},
     "output_type": "display_data"
    }
   ],
   "source": [
    "all_dfs[['seed', 'split', 'Age', 'CPC', 'ROSC', 'TTM']].groupby([\"seed\", 'split']).agg('mean').plot.bar()"
   ]
  },
  {
   "cell_type": "code",
   "execution_count": 35,
   "metadata": {},
   "outputs": [
    {
     "data": {
      "text/html": [
       "<div>\n",
       "<style scoped>\n",
       "    .dataframe tbody tr th:only-of-type {\n",
       "        vertical-align: middle;\n",
       "    }\n",
       "\n",
       "    .dataframe tbody tr th {\n",
       "        vertical-align: top;\n",
       "    }\n",
       "\n",
       "    .dataframe thead th {\n",
       "        text-align: right;\n",
       "    }\n",
       "</style>\n",
       "<table border=\"1\" class=\"dataframe\">\n",
       "  <thead>\n",
       "    <tr style=\"text-align: right;\">\n",
       "      <th></th>\n",
       "      <th></th>\n",
       "      <th>Age</th>\n",
       "      <th>CPC</th>\n",
       "      <th>ROSC</th>\n",
       "      <th>TTM</th>\n",
       "    </tr>\n",
       "    <tr>\n",
       "      <th>seed</th>\n",
       "      <th>split</th>\n",
       "      <th></th>\n",
       "      <th></th>\n",
       "      <th></th>\n",
       "      <th></th>\n",
       "    </tr>\n",
       "  </thead>\n",
       "  <tbody>\n",
       "    <tr>\n",
       "      <th rowspan=\"2\" valign=\"top\">1</th>\n",
       "      <th>train</th>\n",
       "      <td>61.018657</td>\n",
       "      <td>3.525140</td>\n",
       "      <td>23.388679</td>\n",
       "      <td>33.374165</td>\n",
       "    </tr>\n",
       "    <tr>\n",
       "      <th>valid</th>\n",
       "      <td>61.866667</td>\n",
       "      <td>3.316667</td>\n",
       "      <td>22.133333</td>\n",
       "      <td>33.294118</td>\n",
       "    </tr>\n",
       "    <tr>\n",
       "      <th rowspan=\"2\" valign=\"top\">42</th>\n",
       "      <th>train</th>\n",
       "      <td>60.889925</td>\n",
       "      <td>3.487896</td>\n",
       "      <td>22.722846</td>\n",
       "      <td>33.365854</td>\n",
       "    </tr>\n",
       "    <tr>\n",
       "      <th>valid</th>\n",
       "      <td>63.016667</td>\n",
       "      <td>3.650000</td>\n",
       "      <td>28.392857</td>\n",
       "      <td>33.367347</td>\n",
       "    </tr>\n",
       "  </tbody>\n",
       "</table>\n",
       "</div>"
      ],
      "text/plain": [
       "                  Age       CPC       ROSC        TTM\n",
       "seed split                                           \n",
       "1    train  61.018657  3.525140  23.388679  33.374165\n",
       "     valid  61.866667  3.316667  22.133333  33.294118\n",
       "42   train  60.889925  3.487896  22.722846  33.365854\n",
       "     valid  63.016667  3.650000  28.392857  33.367347"
      ]
     },
     "execution_count": 35,
     "metadata": {},
     "output_type": "execute_result"
    }
   ],
   "source": [
    "means = all_dfs[['seed', 'split', 'Age', 'CPC', 'ROSC', 'TTM']].groupby([\"seed\", 'split']).agg('mean')\n",
    "means"
   ]
  },
  {
   "cell_type": "code",
   "execution_count": 38,
   "metadata": {},
   "outputs": [
    {
     "data": {
      "text/plain": [
       "<Axes: xlabel='split', ylabel='CPC'>"
      ]
     },
     "execution_count": 38,
     "metadata": {},
     "output_type": "execute_result"
    },
    {
     "data": {
      "image/png": "[encoded data removed]",
      "text/plain": [
       "<Figure size 640x480 with 1 Axes>"
      ]
     },
     "metadata": {},
     "output_type": "display_data"
    }
   ],
   "source": [
    "sns.barplot(data=all_dfs, x='split', hue='seed',  y='CPC')"
   ]
  },
  {
   "cell_type": "code",
   "execution_count": null,
   "metadata": {},
   "outputs": [],
   "source": []
  }
 ],
 "metadata": {
  "kernelspec": {
   "display_name": "physionet2023",
   "language": "python",
   "name": "python3"
  },
  "language_info": {
   "codemirror_mode": {
    "name": "ipython",
    "version": 3
   },
   "file_extension": ".py",
   "mimetype": "text/x-python",
   "name": "python",
   "nbconvert_exporter": "python",
   "pygments_lexer": "ipython3",
   "version": "3.10.10"
  },
  "orig_nbformat": 4
 },
 "nbformat": 4,
 "nbformat_minor": 2
}
