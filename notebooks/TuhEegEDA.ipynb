{
 "cells": [
  {
   "cell_type": "code",
   "execution_count": 20,
   "metadata": {},
   "outputs": [],
   "source": [
    "#from braindecode.datasets.tuh import _TUHMock as TUH\n",
    "from braindecode.datasets import TUH\n",
    "import seaborn as sns"
   ]
  },
  {
   "cell_type": "code",
   "execution_count": 14,
   "metadata": {},
   "outputs": [
    {
     "name": "stdout",
     "output_type": "stream",
     "text": [
      "Creating RawArray with float64 data, n_channels=21, n_times=3600\n",
      "    Range : 0 ... 3599 =      0.000 ...   359.900 secs\n",
      "Ready.\n",
      "Creating RawArray with float64 data, n_channels=21, n_times=3600\n",
      "    Range : 0 ... 3599 =      0.000 ...   359.900 secs\n",
      "Ready.\n",
      "Creating RawArray with float64 data, n_channels=21, n_times=3600\n",
      "    Range : 0 ... 3599 =      0.000 ...   359.900 secs\n",
      "Ready.\n",
      "Creating RawArray with float64 data, n_channels=21, n_times=3600\n",
      "    Range : 0 ... 3599 =      0.000 ...   359.900 secs\n",
      "Ready.\n",
      "Creating RawArray with float64 data, n_channels=21, n_times=3600\n",
      "    Range : 0 ... 3599 =      0.000 ...   359.900 secs\n",
      "Ready.\n"
     ]
    },
    {
     "data": {
      "text/html": [
       "<div>\n",
       "<style scoped>\n",
       "    .dataframe tbody tr th:only-of-type {\n",
       "        vertical-align: middle;\n",
       "    }\n",
       "\n",
       "    .dataframe tbody tr th {\n",
       "        vertical-align: top;\n",
       "    }\n",
       "\n",
       "    .dataframe thead th {\n",
       "        text-align: right;\n",
       "    }\n",
       "</style>\n",
       "<table border=\"1\" class=\"dataframe\">\n",
       "  <thead>\n",
       "    <tr style=\"text-align: right;\">\n",
       "      <th></th>\n",
       "      <th>path</th>\n",
       "      <th>version</th>\n",
       "      <th>year</th>\n",
       "      <th>month</th>\n",
       "      <th>day</th>\n",
       "      <th>subject</th>\n",
       "      <th>session</th>\n",
       "      <th>segment</th>\n",
       "      <th>age</th>\n",
       "      <th>gender</th>\n",
       "    </tr>\n",
       "  </thead>\n",
       "  <tbody>\n",
       "    <tr>\n",
       "      <th>0</th>\n",
       "      <td>tuh_eeg/v1.1.0/edf/02_tcp_le/000/00000058/s001...</td>\n",
       "      <td>v1.1.0</td>\n",
       "      <td>2003</td>\n",
       "      <td>2</td>\n",
       "      <td>5</td>\n",
       "      <td>58</td>\n",
       "      <td>1</td>\n",
       "      <td>0</td>\n",
       "      <td>0</td>\n",
       "      <td>M</td>\n",
       "    </tr>\n",
       "    <tr>\n",
       "      <th>1</th>\n",
       "      <td>tuh_eeg/v1.1.0/edf/01_tcp_ar/099/00009932/s004...</td>\n",
       "      <td>v1.1.0</td>\n",
       "      <td>2014</td>\n",
       "      <td>9</td>\n",
       "      <td>30</td>\n",
       "      <td>9932</td>\n",
       "      <td>4</td>\n",
       "      <td>13</td>\n",
       "      <td>53</td>\n",
       "      <td>F</td>\n",
       "    </tr>\n",
       "    <tr>\n",
       "      <th>2</th>\n",
       "      <td>tuh_eeg/v1.1.0/edf/03_tcp_ar_a/123/00012331/s0...</td>\n",
       "      <td>v1.1.0</td>\n",
       "      <td>2014</td>\n",
       "      <td>12</td>\n",
       "      <td>14</td>\n",
       "      <td>12331</td>\n",
       "      <td>3</td>\n",
       "      <td>2</td>\n",
       "      <td>39</td>\n",
       "      <td>M</td>\n",
       "    </tr>\n",
       "    <tr>\n",
       "      <th>3</th>\n",
       "      <td>tuh_eeg/v1.1.0/edf/01_tcp_ar/000/00000000/s001...</td>\n",
       "      <td>v1.1.0</td>\n",
       "      <td>2015</td>\n",
       "      <td>12</td>\n",
       "      <td>30</td>\n",
       "      <td>0</td>\n",
       "      <td>1</td>\n",
       "      <td>0</td>\n",
       "      <td>37</td>\n",
       "      <td>M</td>\n",
       "    </tr>\n",
       "    <tr>\n",
       "      <th>4</th>\n",
       "      <td>tuh_eeg/v1.2.0/edf/03_tcp_ar_a/149/00014928/s0...</td>\n",
       "      <td>v1.2.0</td>\n",
       "      <td>2016</td>\n",
       "      <td>1</td>\n",
       "      <td>15</td>\n",
       "      <td>14928</td>\n",
       "      <td>4</td>\n",
       "      <td>7</td>\n",
       "      <td>83</td>\n",
       "      <td>F</td>\n",
       "    </tr>\n",
       "  </tbody>\n",
       "</table>\n",
       "</div>"
      ],
      "text/plain": [
       "                                                path version  year  month  \\\n",
       "0  tuh_eeg/v1.1.0/edf/02_tcp_le/000/00000058/s001...  v1.1.0  2003      2   \n",
       "1  tuh_eeg/v1.1.0/edf/01_tcp_ar/099/00009932/s004...  v1.1.0  2014      9   \n",
       "2  tuh_eeg/v1.1.0/edf/03_tcp_ar_a/123/00012331/s0...  v1.1.0  2014     12   \n",
       "3  tuh_eeg/v1.1.0/edf/01_tcp_ar/000/00000000/s001...  v1.1.0  2015     12   \n",
       "4  tuh_eeg/v1.2.0/edf/03_tcp_ar_a/149/00014928/s0...  v1.2.0  2016      1   \n",
       "\n",
       "   day  subject  session  segment  age gender  \n",
       "0    5       58        1        0    0      M  \n",
       "1   30     9932        4       13   53      F  \n",
       "2   14    12331        3        2   39      M  \n",
       "3   30        0        1        0   37      M  \n",
       "4   15    14928        4        7   83      F  "
      ]
     },
     "execution_count": 14,
     "metadata": {},
     "output_type": "execute_result"
    }
   ],
   "source": [
    "tuh = TUH(\n",
    "    path=\"~/data/tuh_eeg/\",\n",
    "    recording_ids=None,\n",
    "    target_name=('age', 'gender'),  # use both age and gender as decoding target\n",
    "    preload=False,\n",
    "    add_physician_reports=False,\n",
    ")\n",
    "tuh.description"
   ]
  },
  {
   "cell_type": "code",
   "execution_count": 15,
   "metadata": {},
   "outputs": [
    {
     "data": {
      "text/plain": [
       "braindecode.datasets.tuh._TUHMock"
      ]
     },
     "execution_count": 15,
     "metadata": {},
     "output_type": "execute_result"
    }
   ],
   "source": [
    "type(tuh)"
   ]
  },
  {
   "cell_type": "code",
   "execution_count": 19,
   "metadata": {},
   "outputs": [
    {
     "data": {
      "text/plain": [
       "<AxesSubplot:>"
      ]
     },
     "execution_count": 19,
     "metadata": {},
     "output_type": "execute_result"
    },
    {
     "data": {
      "image/png": "[encoded data removed]",
      "text/plain": [
       "<Figure size 432x288 with 1 Axes>"
      ]
     },
     "metadata": {
      "needs_background": "light"
     },
     "output_type": "display_data"
    }
   ],
   "source": [
    "wf, meta = tuh[-1]\n",
    "sns.lineplot(x=range(0, wf.shape[0]), y=wf[:,0])"
   ]
  },
  {
   "cell_type": "code",
   "execution_count": null,
   "metadata": {},
   "outputs": [],
   "source": []
  }
 ],
 "metadata": {
  "kernelspec": {
   "display_name": "Python 3",
   "language": "python",
   "name": "python3"
  },
  "language_info": {
   "codemirror_mode": {
    "name": "ipython",
    "version": 3
   },
   "file_extension": ".py",
   "mimetype": "text/x-python",
   "name": "python",
   "nbconvert_exporter": "python",
   "pygments_lexer": "ipython3",
   "version": "3.10.4"
  },
  "orig_nbformat": 4
 },
 "nbformat": 4,
 "nbformat_minor": 2
}
