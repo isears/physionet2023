{
 "cells": [
  {
   "cell_type": "code",
   "execution_count": 31,
   "metadata": {},
   "outputs": [],
   "source": [
    "#from braindecode.datasets.tuh import _TUHMock as TUH\n",
    "from braindecode.datasets import TUH\n",
    "import mne\n",
    "import seaborn as sns\n",
    "import pyedflib\n",
    "from physionet2023.dataProcessing.TuhDatasets import TuhPatientDataset\n",
    "from physionet2023.dataProcessing.patientDatasets import AvgSpectralDensityDataset\n",
    "import numpy as np"
   ]
  },
  {
   "cell_type": "code",
   "execution_count": 23,
   "metadata": {},
   "outputs": [],
   "source": [
    "tuh_ds = TuhPatientDataset(tuh_dir=\"../tuh/edf\")\n",
    "physionet_ds = AvgSpectralDensityDataset(root_folder=\"../data\")"
   ]
  },
  {
   "cell_type": "code",
   "execution_count": 24,
   "metadata": {},
   "outputs": [
    {
     "name": "stdout",
     "output_type": "stream",
     "text": [
      "EEG channel type selected for re-referencing\n",
      "Creating RawArray with float64 data, n_channels=18, n_times=300750\n",
      "    Range : 0 ... 300749 =      0.000 ...  1202.996 secs\n",
      "Ready.\n",
      "Added the following bipolar channels:\n",
      "Fp1-F7, F7-T3, T3-T5, T5-O1, Fp2-F8, F8-T4, T4-T6, T6-O2, Fp1-F3, F3-C3, C3-P3, P3-O1, Fp2-F4, F4-C4, C4-P4, P4-O2, Fz-Cz, Cz-Pz\n"
     ]
    },
    {
     "data": {
      "text/plain": [
       "torch.Size([30])"
      ]
     },
     "execution_count": 24,
     "metadata": {},
     "output_type": "execute_result"
    }
   ],
   "source": [
    "tuh_sample = tuh_ds[10000]\n",
    "tuh_sample.shape"
   ]
  },
  {
   "cell_type": "code",
   "execution_count": 25,
   "metadata": {},
   "outputs": [
    {
     "data": {
      "text/plain": [
       "torch.Size([1, 75])"
      ]
     },
     "execution_count": 25,
     "metadata": {},
     "output_type": "execute_result"
    }
   ],
   "source": [
    "physionet_sample = physionet_ds[0][0]\n",
    "physionet_sample.shape\n"
   ]
  },
  {
   "cell_type": "code",
   "execution_count": 55,
   "metadata": {},
   "outputs": [
    {
     "name": "stdout",
     "output_type": "stream",
     "text": [
      "EEG channel type selected for re-referencing\n",
      "Creating RawArray with float64 data, n_channels=18, n_times=300750\n",
      "    Range : 0 ... 300749 =      0.000 ...  1202.996 secs\n",
      "Ready.\n",
      "Added the following bipolar channels:\n",
      "Fp1-F7, F7-T3, T3-T5, T5-O1, Fp2-F8, F8-T4, T4-T6, T6-O2, Fp1-F3, F3-C3, C3-P3, P3-O1, Fp2-F4, F4-C4, C4-P4, P4-O2, Fz-Cz, Cz-Pz\n"
     ]
    },
    {
     "data": {
      "text/plain": [
       "(1801,)"
      ]
     },
     "execution_count": 55,
     "metadata": {},
     "output_type": "execute_result"
    }
   ],
   "source": [
    "wf, sfreq = tuh_ds._get_physionet_channels(10000)\n",
    "psd , _ = mne.time_frequency.psd_array_welch(wf[0,:], sfreq=sfreq, fmin=12, fmax=30, verbose=False, n_fft=int(sfreq * 100))\n",
    "psd.shape"
   ]
  },
  {
   "cell_type": "code",
   "execution_count": 56,
   "metadata": {},
   "outputs": [
    {
     "data": {
      "text/plain": [
       "<AxesSubplot:>"
      ]
     },
     "execution_count": 56,
     "metadata": {},
     "output_type": "execute_result"
    },
    {
     "data": {
      "image/png": "[encoded data removed]",
      "text/plain": [
       "<Figure size 432x288 with 1 Axes>"
      ]
     },
     "metadata": {
      "needs_background": "light"
     },
     "output_type": "display_data"
    }
   ],
   "source": [
    "sns.lineplot(x=range(0, len(psd)), y=psd)"
   ]
  },
  {
   "cell_type": "code",
   "execution_count": 32,
   "metadata": {},
   "outputs": [
    {
     "data": {
      "text/plain": [
       "(18, 300250)"
      ]
     },
     "execution_count": 32,
     "metadata": {},
     "output_type": "execute_result"
    }
   ],
   "source": [
    "sample_fft = np.zeros_like(wf)\n",
    "for channel_idx in range(0, wf.shape[0]):\n",
    "    sample_fft[channel_idx, :] = np.abs(\n",
    "        np.fft.fft(wf[channel_idx, :])\n",
    "    )\n",
    "\n",
    "sample_fft.shape"
   ]
  },
  {
   "cell_type": "code",
   "execution_count": 38,
   "metadata": {},
   "outputs": [
    {
     "data": {
      "text/plain": [
       "(18, 300250)"
      ]
     },
     "execution_count": 38,
     "metadata": {},
     "output_type": "execute_result"
    }
   ],
   "source": [
    "a = np.abs(np.fft.fft(wf, axis=1))\n",
    "a.shape"
   ]
  },
  {
   "cell_type": "code",
   "execution_count": 39,
   "metadata": {},
   "outputs": [
    {
     "data": {
      "text/plain": [
       "<AxesSubplot:>"
      ]
     },
     "execution_count": 39,
     "metadata": {},
     "output_type": "execute_result"
    },
    {
     "data": {
      "image/png": "[encoded data removed]",
      "text/plain": [
       "<Figure size 432x288 with 1 Axes>"
      ]
     },
     "metadata": {
      "needs_background": "light"
     },
     "output_type": "display_data"
    }
   ],
   "source": [
    "sns.lineplot(x=range(0, a.shape[-1]), y=a[0, :])"
   ]
  },
  {
   "cell_type": "code",
   "execution_count": 42,
   "metadata": {},
   "outputs": [
    {
     "data": {
      "text/plain": [
       "array([[ 7.84649912,  0.526236  ,  1.42520443, ...,  0.75068402,\n",
       "         1.42520443,  0.526236  ],\n",
       "       [ 3.1500294 ,  0.54036296,  0.54422301, ...,  0.29451606,\n",
       "         0.54422301,  0.54036296],\n",
       "       [ 1.79497713,  0.11585127,  0.70812635, ...,  0.58426697,\n",
       "         0.70812635,  0.11585127],\n",
       "       ...,\n",
       "       [31.21521513, 14.24867527, 14.25012879, ..., 10.20689206,\n",
       "        14.25012879, 14.24867527],\n",
       "       [ 5.97250401,  2.0910944 ,  1.59576875, ...,  2.65565948,\n",
       "         1.59576875,  2.0910944 ],\n",
       "       [11.61964423,  3.64150533,  3.6125859 , ...,  1.34549521,\n",
       "         3.6125859 ,  3.64150533]])"
      ]
     },
     "execution_count": 42,
     "metadata": {},
     "output_type": "execute_result"
    }
   ],
   "source": [
    "a"
   ]
  },
  {
   "cell_type": "code",
   "execution_count": null,
   "metadata": {},
   "outputs": [],
   "source": []
  }
 ],
 "metadata": {
  "kernelspec": {
   "display_name": "Python 3",
   "language": "python",
   "name": "python3"
  },
  "language_info": {
   "codemirror_mode": {
    "name": "ipython",
    "version": 3
   },
   "file_extension": ".py",
   "mimetype": "text/x-python",
   "name": "python",
   "nbconvert_exporter": "python",
   "pygments_lexer": "ipython3",
   "version": "3.10.4"
  },
  "orig_nbformat": 4
 },
 "nbformat": 4,
 "nbformat_minor": 2
}
